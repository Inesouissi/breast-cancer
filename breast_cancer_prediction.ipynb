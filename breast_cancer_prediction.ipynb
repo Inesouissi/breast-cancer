{
  "metadata": {
    "kernelspec": {
      "language": "python",
      "display_name": "Python 3",
      "name": "python3"
    },
    "language_info": {
      "name": "python",
      "version": "3.7.12",
      "mimetype": "text/x-python",
      "codemirror_mode": {
        "name": "ipython",
        "version": 3
      },
      "pygments_lexer": "ipython3",
      "nbconvert_exporter": "python",
      "file_extension": ".py"
    },
    "colab": {
      "name": "breast-cancer-prediction.ipynb",
      "provenance": []
    }
  },
  "nbformat_minor": 0,
  "nbformat": 4,
  "cells": [
    {
      "cell_type": "code",
      "source": [
        ""
      ],
      "metadata": {
        "_uuid": "8f2839f25d086af736a60e9eeb907d3b93b6e0e5",
        "_cell_guid": "b1076dfc-b9ad-4769-8c92-a6c4dae69d19",
        "execution": {
          "iopub.status.busy": "2022-05-04T11:29:53.897099Z",
          "iopub.execute_input": "2022-05-04T11:29:53.897454Z",
          "iopub.status.idle": "2022-05-04T11:29:58.411998Z",
          "shell.execute_reply.started": "2022-05-04T11:29:53.897367Z",
          "shell.execute_reply": "2022-05-04T11:29:58.410026Z"
        },
        "trusted": true,
        "id": "1uPiGJyj4kUt"
      },
      "execution_count": null,
      "outputs": []
    },
    {
      "cell_type": "code",
      "source": [
        "import os\n",
        "import glob\n",
        "import numpy as np\n",
        "import pandas as pd\n",
        "import seaborn as sns\n",
        "import matplotlib.pyplot as plt\n",
        "from tensorflow.keras.layers import Dense\n",
        "from tensorflow.keras.models import Model\n",
        "from keras.preprocessing.image import ImageDataGenerator\n",
        "from tensorflow.keras.callbacks import Callback, EarlyStopping\n",
        "from sklearn.metrics import confusion_matrix, classification_report\n",
        "from tensorflow.keras.layers import *\n",
        "from tensorflow import keras\n",
        "from tensorflow.keras import Sequential\n",
        "import tensorflow as tf\n"
      ],
      "metadata": {
        "execution": {
          "iopub.status.busy": "2022-05-04T11:29:58.414685Z",
          "iopub.execute_input": "2022-05-04T11:29:58.415025Z",
          "iopub.status.idle": "2022-05-04T11:30:06.641488Z",
          "shell.execute_reply.started": "2022-05-04T11:29:58.414985Z",
          "shell.execute_reply": "2022-05-04T11:30:06.640495Z"
        },
        "trusted": true,
        "id": "anD4DXKY4kU6"
      },
      "execution_count": null,
      "outputs": []
    },
    {
      "cell_type": "code",
      "source": [
        "from tensorflow.keras.preprocessing import image_dataset_from_directory\n"
      ],
      "metadata": {
        "execution": {
          "iopub.status.busy": "2022-05-04T11:30:06.646520Z",
          "iopub.execute_input": "2022-05-04T11:30:06.646763Z",
          "iopub.status.idle": "2022-05-04T11:30:06.652116Z",
          "shell.execute_reply.started": "2022-05-04T11:30:06.646734Z",
          "shell.execute_reply": "2022-05-04T11:30:06.651077Z"
        },
        "trusted": true,
        "id": "KrxL-37f4kU-"
      },
      "execution_count": null,
      "outputs": []
    },
    {
      "cell_type": "code",
      "source": [
        "ds_train = image_dataset_from_directory(\n",
        "    '../input/mammography-data/final dataset/training',\n",
        "    labels='inferred',\n",
        "    label_mode='categorical',\n",
        "    image_size=[128, 128],\n",
        "    interpolation='nearest',\n",
        "    batch_size=64,\n",
        "    shuffle=True,\n",
        ")"
      ],
      "metadata": {
        "execution": {
          "iopub.status.busy": "2022-05-04T11:30:06.653252Z",
          "iopub.execute_input": "2022-05-04T11:30:06.653490Z",
          "iopub.status.idle": "2022-05-04T11:30:07.435199Z",
          "shell.execute_reply.started": "2022-05-04T11:30:06.653461Z",
          "shell.execute_reply": "2022-05-04T11:30:07.434510Z"
        },
        "trusted": true,
        "id": "V7jSo7AM4kVA"
      },
      "execution_count": null,
      "outputs": []
    },
    {
      "cell_type": "code",
      "source": [
        "ds_validation = image_dataset_from_directory(\n",
        "    '../input/mammography-data/final dataset/validation',\n",
        "    labels='inferred',\n",
        "    label_mode='categorical',\n",
        "    image_size=[128, 128],\n",
        "    interpolation='nearest',\n",
        "    batch_size=64,\n",
        "    shuffle=True,\n",
        ")"
      ],
      "metadata": {
        "execution": {
          "iopub.status.busy": "2022-05-04T11:30:07.436314Z",
          "iopub.execute_input": "2022-05-04T11:30:07.437063Z",
          "iopub.status.idle": "2022-05-04T11:30:07.570851Z",
          "shell.execute_reply.started": "2022-05-04T11:30:07.437022Z",
          "shell.execute_reply": "2022-05-04T11:30:07.569565Z"
        },
        "trusted": true,
        "id": "BoTvIWKQ4kVD"
      },
      "execution_count": null,
      "outputs": []
    },
    {
      "cell_type": "code",
      "source": [
        "# Data Pipeline\n",
        "def convert_to_float(image, label):\n",
        "    image = tf.image.convert_image_dtype(image, dtype=tf.float32)\n",
        "    return image, label\n",
        "\n",
        "AUTOTUNE = tf.data.experimental.AUTOTUNE\n",
        "ds_train = (\n",
        "    ds_train\n",
        "    .map(convert_to_float)\n",
        "    .cache()\n",
        "    .prefetch(buffer_size=AUTOTUNE)\n",
        ")\n",
        "ds_validation = (\n",
        "    ds_validation\n",
        "    .map(convert_to_float)\n",
        "    .cache()\n",
        "    .prefetch(buffer_size=AUTOTUNE)\n",
        ")"
      ],
      "metadata": {
        "execution": {
          "iopub.status.busy": "2022-05-04T11:30:07.572382Z",
          "iopub.execute_input": "2022-05-04T11:30:07.572729Z",
          "iopub.status.idle": "2022-05-04T11:30:07.644545Z",
          "shell.execute_reply.started": "2022-05-04T11:30:07.572684Z",
          "shell.execute_reply": "2022-05-04T11:30:07.643569Z"
        },
        "trusted": true,
        "id": "IAn1krcY4kVG"
      },
      "execution_count": null,
      "outputs": []
    },
    {
      "cell_type": "code",
      "source": [
        "def func(pre,name_model):\n",
        "    print('#####~Model => {} '.format(name_model))\n",
        "    pre_model = name_model(input_shape=(128,128, 3),\n",
        "                   include_top=False,\n",
        "                   weights='imagenet',\n",
        "                   pooling='avg')\n",
        "    pre_model.trainable = False\n",
        "    inputs = pre_model.input\n",
        "    x = Dense(64, activation='relu')(pre_model.output)\n",
        "    x = Dense(64, activation='relu')(x)\n",
        "    outputs = Dense(3, activation='softmax')(x)\n",
        "    model = Model(inputs=inputs, outputs=outputs)\n",
        "    model.compile(loss = 'categorical_crossentropy',optimizer='Adam',metrics=['accuracy'])\n",
        "    my_callbacks  = [EarlyStopping(monitor='val_loss',\n",
        "                              min_delta=0,\n",
        "                              patience=5,\n",
        "                              mode='auto')]\n",
        "    \n",
        "    history = model.fit(ds_train,validation_data=ds_validation,epochs=50,callbacks=my_callbacks,verbose=1)\n",
        "    # Plotting Accuracy, val_accuracy, loss, val_loss\n",
        "    fig, ax = plt.subplots(1, 2, figsize=(10, 3))\n",
        "    ax = ax.ravel()\n",
        "\n",
        "    for i, met in enumerate(['accuracy', 'loss']):\n",
        "        ax[i].plot(history.history[met])\n",
        "        ax[i].plot(history.history['val_' + met])\n",
        "        ax[i].set_title('Model {}'.format(met))\n",
        "        ax[i].set_xlabel('epochs')\n",
        "        ax[i].set_ylabel(met)\n",
        "        ax[i].legend(['Train', 'Validation'])\n",
        "    plt.show()\n",
        "    \n",
        "    # Predict Data Test\n",
        "    pred = model.predict(ds_validation)\n",
        "    pred = np.argmax(pred,axis=1)\n",
        "    labels = (ds_train.class_indices)\n",
        "    labels = dict((v,k) for k,v in labels.items())\n",
        "    pred = [labels[k] for k in pred]\n",
        "    \n",
        "    print('\\033[01m              Classification_report \\033[0m')\n",
        "    \n",
        "    print('\\033[01m              Results \\033[0m')\n",
        "    # Results\n",
        "    results = model.evaluate(ds_validation, verbose=1)\n",
        "    print(\"    Test Loss:\\033[31m \\033[01m {:.5f} \\033[30m \\033[0m\".format(results[0]))\n",
        "    print(\"Test Accuracy:\\033[32m \\033[01m {:.2f}% \\033[30m \\033[0m\".format(results[1] * 100))\n",
        "    \n",
        "    return results\n"
      ],
      "metadata": {
        "execution": {
          "iopub.status.busy": "2022-05-04T11:30:07.645818Z",
          "iopub.execute_input": "2022-05-04T11:30:07.646053Z",
          "iopub.status.idle": "2022-05-04T11:30:07.663710Z",
          "shell.execute_reply.started": "2022-05-04T11:30:07.646026Z",
          "shell.execute_reply": "2022-05-04T11:30:07.662651Z"
        },
        "trusted": true,
        "id": "urXdyTfX4kVJ"
      },
      "execution_count": null,
      "outputs": []
    },
    {
      "cell_type": "code",
      "source": [
        "def emir_model():\n",
        "    inp = Input(shape = (128,128,3))\n",
        "\n",
        "    x = Conv2D(64, (3,3), strides=(2,2), padding='same', activation='relu', use_bias=True)(inp)\n",
        "    x = BatchNormalization()(x)\n",
        "    x = SpatialDropout2D(0.4)(x)\n",
        "    x = MaxPooling2D(pool_size=(2, 2), strides=(2,2), padding='same', data_format=None)(x)\n",
        "    x = Conv2D(128, (3,3), strides=(2,2), padding='same', activation='relu', use_bias=True)(x)\n",
        "    x = BatchNormalization()(x)\n",
        "    x = SpatialDropout2D(0.4)(x)\n",
        "    x = MaxPooling2D(pool_size=(2, 2), strides=(2,2), padding='same', data_format=None)(x)\n",
        "    x = Conv2D(256, (3,3), strides=(2,2), padding='same', activation='relu', use_bias=True)(x)\n",
        "    x = BatchNormalization()(x)\n",
        "    x = SpatialDropout2D(0.2)(x)\n",
        "    x = MaxPooling2D(pool_size=(2, 2), strides=(2,2), padding='same', data_format=None)(x)\n",
        "    x = Conv2D(64, (3,3), strides=(2,2), padding='same', activation='relu', use_bias=True)(x)\n",
        "    x = BatchNormalization()(x)\n",
        "    x = SpatialDropout2D(0.2)(x)\n",
        "    x = Flatten()(x)\n",
        "    x = Dense(64, activation='relu')(x)\n",
        "    x = Dense(64, activation='relu')(x)\n",
        "    x = Dense(4, activation='sigmoid')(x)\n",
        "\n",
        "    model = Model(inputs=inp, outputs= x)\n",
        "    return model\n"
      ],
      "metadata": {
        "execution": {
          "iopub.status.busy": "2022-05-04T11:30:07.664936Z",
          "iopub.execute_input": "2022-05-04T11:30:07.665864Z",
          "iopub.status.idle": "2022-05-04T11:30:07.679013Z",
          "shell.execute_reply.started": "2022-05-04T11:30:07.665820Z",
          "shell.execute_reply": "2022-05-04T11:30:07.678228Z"
        },
        "trusted": true,
        "id": "efLNAbxZ4kVM"
      },
      "execution_count": null,
      "outputs": []
    },
    {
      "cell_type": "code",
      "source": [
        "def func_emir(name_model):\n",
        "\n",
        "    print('#####~Model => {} '.format(name_model))\n",
        "\n",
        "    model = emir_model()\n",
        "    model.summary()\n",
        "\n",
        "    model.compile(optimizer=\"adam\",loss=\"mse\",metrics=[\"accuracy\"])\n",
        "    my_callbacks  = [EarlyStopping(monitor='val_loss',\n",
        "                              min_delta=0,\n",
        "                              patience=5,\n",
        "                              mode='auto')]\n",
        "    \n",
        "    history = model.fit(ds_train,\n",
        "                        validation_data=ds_validation,\n",
        "                        epochs=128,\n",
        "                        callbacks=my_callbacks,\n",
        "                        verbose=1,\n",
        "                        batch_size=128,)\n",
        "    # Plotting Accuracy, val_accuracy, loss, val_loss\n",
        "    fig, ax = plt.subplots(1, 2, figsize=(10, 3))\n",
        "    ax = ax.ravel()\n",
        "\n",
        "    for i, met in enumerate(['accuracy', 'loss']):\n",
        "        ax[i].plot(history.history[met])\n",
        "        ax[i].plot(history.history['val_' + met])\n",
        "        ax[i].set_title('Model {}'.format(met))\n",
        "        ax[i].set_xlabel('epochs')\n",
        "        ax[i].set_ylabel(met)\n",
        "        ax[i].legend(['Train', 'Validation'])\n",
        "    plt.show()\n",
        "    \n",
        "    # Predict Data Test\n",
        "    pred = model.predict(ds_validation)\n",
        "    pred = np.argmax(pred,axis=1)\n",
        "    labels = (ds_train.class_indices)\n",
        "    labels = dict((v,k) for k,v in labels.items())\n",
        "    pred = [labels[k] for k in pred]\n",
        "    \n",
        "    print('\\033[01m              Classification_report \\033[0m')\n",
        "    \n",
        "    print('\\033[01m              Results \\033[0m')\n",
        "    # Results\n",
        "    results = model.evaluate(test_generator, verbose=1)\n",
        "    print(\"    Test Loss:\\033[31m \\033[01m {:.5f} \\033[30m \\033[0m\".format(results[0]))\n",
        "    print(\"Test Accuracy:\\033[32m \\033[01m {:.2f}% \\033[30m \\033[0m\".format(results[1] * 100))\n",
        "    \n",
        "    return results[0],results[1],model"
      ],
      "metadata": {
        "execution": {
          "iopub.status.busy": "2022-05-04T11:30:07.682088Z",
          "iopub.execute_input": "2022-05-04T11:30:07.682944Z",
          "iopub.status.idle": "2022-05-04T11:30:07.699962Z",
          "shell.execute_reply.started": "2022-05-04T11:30:07.682889Z",
          "shell.execute_reply": "2022-05-04T11:30:07.699205Z"
        },
        "trusted": true,
        "id": "DwS74vH34kVP"
      },
      "execution_count": null,
      "outputs": []
    },
    {
      "cell_type": "code",
      "source": [
        "## result\n",
        "\"\"\"\n",
        "Epoch 50/50\n",
        "53/53 [==============================] - 490s 9s/step - loss: 0.0018 - accuracy: 1.0000 - val_loss: 0.0021 - val_accuracy: 1.0000\n",
        "\"\"\"\n"
      ],
      "metadata": {
        "execution": {
          "iopub.status.busy": "2022-05-04T11:30:07.704959Z",
          "iopub.execute_input": "2022-05-04T11:30:07.705295Z",
          "iopub.status.idle": "2022-05-04T11:30:07.720753Z",
          "shell.execute_reply.started": "2022-05-04T11:30:07.705252Z",
          "shell.execute_reply": "2022-05-04T11:30:07.719707Z"
        },
        "trusted": true,
        "id": "ctEf2Rda4kVS"
      },
      "execution_count": null,
      "outputs": []
    },
    {
      "cell_type": "markdown",
      "source": [
        "# VGG19 Model"
      ],
      "metadata": {
        "id": "F-ZxNOoY4kVU"
      }
    },
    {
      "cell_type": "code",
      "source": [
        "from tensorflow.keras.applications import VGG19\n",
        "from tensorflow.keras.applications.vgg19 import preprocess_input\n",
        "result_VGG19 = func(preprocess_input,VGG19)"
      ],
      "metadata": {
        "execution": {
          "iopub.status.busy": "2022-05-04T11:30:07.721991Z",
          "iopub.execute_input": "2022-05-04T11:30:07.722918Z",
          "iopub.status.idle": "2022-05-04T12:30:51.163262Z",
          "shell.execute_reply.started": "2022-05-04T11:30:07.722867Z",
          "shell.execute_reply": "2022-05-04T12:30:51.161860Z"
        },
        "trusted": true,
        "id": "KVoSCJ3k4kVW"
      },
      "execution_count": null,
      "outputs": []
    },
    {
      "cell_type": "markdown",
      "source": [
        "# VGG16 Model"
      ],
      "metadata": {
        "id": "jV1qRkiq4kVX"
      }
    },
    {
      "cell_type": "code",
      "source": [
        "\n",
        "\n",
        "from tensorflow.keras.applications import VGG16\n",
        "from tensorflow.keras.applications.vgg16 import preprocess_input\n",
        "result_VGG16 = func(preprocess_input,VGG16)\n",
        "\n"
      ],
      "metadata": {
        "id": "xKCFjgb_4kVY"
      },
      "execution_count": null,
      "outputs": []
    },
    {
      "cell_type": "markdown",
      "source": [
        "# ResNet50 Model"
      ],
      "metadata": {
        "id": "bWhTuDcF4kVY"
      }
    },
    {
      "cell_type": "code",
      "source": [
        "from tensorflow.keras.applications import ResNet50\n",
        "from tensorflow.keras.applications.resnet50 import preprocess_input\n",
        "result_ResNet50 = func(preprocess_input,ResNet50)"
      ],
      "metadata": {
        "id": "7c9AP02y4kVY"
      },
      "execution_count": null,
      "outputs": []
    },
    {
      "cell_type": "markdown",
      "source": [
        "# ResNet101 Model"
      ],
      "metadata": {
        "id": "t4wCzw_K4kVZ"
      }
    },
    {
      "cell_type": "code",
      "source": [
        "from tensorflow.keras.applications import ResNet101\n",
        "from tensorflow.keras.applications.resnet import preprocess_input\n",
        "result_ResNet101 = func(preprocess_input,ResNet101)\n"
      ],
      "metadata": {
        "id": "U_AJmZFY4kVZ"
      },
      "execution_count": null,
      "outputs": []
    },
    {
      "cell_type": "markdown",
      "source": [
        "# MobileNet Model"
      ],
      "metadata": {
        "id": "CRuE85GQ4kVa"
      }
    },
    {
      "cell_type": "code",
      "source": [
        "from tensorflow.keras.applications import MobileNet\n",
        "from tensorflow.keras.applications.mobilenet import preprocess_input\n",
        "result_MobileNet = func(preprocess_input,MobileNet)"
      ],
      "metadata": {
        "id": "tWaqfshi4kVa"
      },
      "execution_count": null,
      "outputs": []
    },
    {
      "cell_type": "markdown",
      "source": [
        "# DenseNet201 Model"
      ],
      "metadata": {
        "id": "fCp3lNW64kVa"
      }
    },
    {
      "cell_type": "code",
      "source": [
        "from tensorflow.keras.applications import DenseNet201\n",
        "from tensorflow.keras.applications.densenet import preprocess_input\n",
        "result_DenseNet201 = func(preprocess_input,DenseNet201)"
      ],
      "metadata": {
        "id": "n6qSqM8Z4kVb"
      },
      "execution_count": null,
      "outputs": []
    },
    {
      "cell_type": "markdown",
      "source": [
        "# EfficientNetB7 Model"
      ],
      "metadata": {
        "id": "UV3wFYPi4kVc"
      }
    },
    {
      "cell_type": "code",
      "source": [
        "from tensorflow.keras.applications import EfficientNetB7\n",
        "from tensorflow.keras.applications.efficientnet import preprocess_input\n",
        "result_Eff = func(preprocess_input,EfficientNetB7)"
      ],
      "metadata": {
        "id": "VBlPPoC64kVc"
      },
      "execution_count": null,
      "outputs": []
    },
    {
      "cell_type": "markdown",
      "source": [
        "# Xception Model"
      ],
      "metadata": {
        "id": "RqXg83w_4kVd"
      }
    },
    {
      "cell_type": "code",
      "source": [
        "\n",
        "\n",
        "from tensorflow.keras.applications import Xception\n",
        "from tensorflow.keras.applications.xception import preprocess_input\n",
        "result_Xception = func(preprocess_input,Xception)\n",
        "\n"
      ],
      "metadata": {
        "id": "c3pKBRh94kVd"
      },
      "execution_count": null,
      "outputs": []
    },
    {
      "cell_type": "markdown",
      "source": [
        "# InceptionResNetV2 Model"
      ],
      "metadata": {
        "id": "sNz81L774kVd"
      }
    },
    {
      "cell_type": "code",
      "source": [
        "from tensorflow.keras.applications import InceptionResNetV2\n",
        "from tensorflow.keras.applications.inception_resnet_v2 import preprocess_input\n",
        "result_InResNetV2 = func(preprocess_input,InceptionResNetV2)"
      ],
      "metadata": {
        "id": "I1bJGRiJ4kVd"
      },
      "execution_count": null,
      "outputs": []
    },
    {
      "cell_type": "markdown",
      "source": [
        "# Finally Result of Table (DataFrame - Pandas)"
      ],
      "metadata": {
        "id": "p2VybcFP4kVd"
      }
    },
    {
      "cell_type": "code",
      "source": [
        "model_name = \"Animal_Computer_Vision_Clean_Dataset\"\n",
        "result_emirhan = func_emir(model_name)"
      ],
      "metadata": {
        "id": "2FKC2JSd4kVd"
      },
      "execution_count": null,
      "outputs": []
    },
    {
      "cell_type": "code",
      "source": [
        "accuracy_result_table = pd.DataFrame({'Model':['Emirhan_Model','VGG16','VGG19','ResNet50','ResNet101','MobileNet','InceptionResNetV2',\n",
        "                               'DenseNet201','Xception','EfficientNetB7'],\n",
        "                      'Accuracy':[result_emirhan[1],result_VGG16[1], result_VGG19[1], result_ResNet50[1], result_ResNet101[1],\n",
        "                                  result_MobileNet[1],result_InResNetV2[1],result_DenseNet201[1],result_Xception[1],\n",
        "                                 result_Eff[1]]})"
      ],
      "metadata": {
        "id": "PoJRwk5x4kVe"
      },
      "execution_count": null,
      "outputs": []
    },
    {
      "cell_type": "code",
      "source": [
        "accuracy_result_table"
      ],
      "metadata": {
        "id": "QjGwPdas4kVf"
      },
      "execution_count": null,
      "outputs": []
    },
    {
      "cell_type": "code",
      "source": [
        "plt.figure(figsize=(12, 7))\n",
        "plots = sns.barplot(x='Model', y='Accuracy', data=accuracy_result_table)\n",
        "for bar in plots.patches:\n",
        "    plots.annotate(format(bar.get_height(), '.2f'),\n",
        "                   (bar.get_x() + bar.get_width() / 2,\n",
        "                    bar.get_height()), ha='center', va='center',\n",
        "                   size=15, xytext=(0, 9),\n",
        "                   textcoords='offset points')\n",
        "\n",
        "plt.xlabel(\"Models\")\n",
        "plt.ylabel(\"Accuracy\")\n",
        "plt.xticks(rotation=20);"
      ],
      "metadata": {
        "id": "Vh8jHSOm4kVf"
      },
      "execution_count": null,
      "outputs": []
    },
    {
      "cell_type": "code",
      "source": [
        "\n",
        "\n",
        "loss_result_table = pd.DataFrame({'Model':['Emirhan_Model','VGG16','VGG19','ResNet50','ResNet101','MobileNet','InceptionResNetV2',\n",
        "                               'DenseNet201','Xception','EfficientNetB7'],\n",
        "                      'Loss':[result_emirhan[0],result_VGG16[0], result_VGG19[0], result_ResNet50[0], result_ResNet101[0],\n",
        "                                  result_MobileNet[0],result_InResNetV2[0],result_DenseNet201[0],result_Xception[0],\n",
        "                                 result_Eff[0]]})\n",
        "\n"
      ],
      "metadata": {
        "id": "ltR7yChJ4kVf"
      },
      "execution_count": null,
      "outputs": []
    },
    {
      "cell_type": "code",
      "source": [
        "\n",
        "\n",
        "loss_result_table\n",
        "\n"
      ],
      "metadata": {
        "id": "1Q3xUtOL4kVg"
      },
      "execution_count": null,
      "outputs": []
    },
    {
      "cell_type": "code",
      "source": [
        "plt.figure(figsize=(12, 7))\n",
        "plots = sns.barplot(x='Model', y='Loss', data=loss_result_table)\n",
        "for bar in plots.patches:\n",
        "    plots.annotate(format(bar.get_height(), '.2f'),\n",
        "                   (bar.get_x() + bar.get_width() / 2,\n",
        "                    bar.get_height()), ha='center', va='center',\n",
        "                   size=15, xytext=(0, 9),\n",
        "                   textcoords='offset points')\n",
        "\n",
        "plt.xlabel(\"Models\")\n",
        "plt.ylabel(\"Loss\")\n",
        "plt.xticks(rotation=20);"
      ],
      "metadata": {
        "id": "bXaqd78b4kVg"
      },
      "execution_count": null,
      "outputs": []
    },
    {
      "cell_type": "code",
      "source": [
        ""
      ],
      "metadata": {
        "id": "43zMub1N4kVg"
      },
      "execution_count": null,
      "outputs": []
    }
  ]
}